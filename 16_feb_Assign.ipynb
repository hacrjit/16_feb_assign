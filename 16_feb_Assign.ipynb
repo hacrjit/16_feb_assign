{
 "cells": [
  {
   "cell_type": "markdown",
   "id": "367123f2-eaeb-4c21-94d9-6b91d99f0fc8",
   "metadata": {},
   "source": [
    "### <b>Question No. 1</b>"
   ]
  },
  {
   "cell_type": "markdown",
   "id": "9ceda972-1d02-4b83-9702-485b28f9e065",
   "metadata": {},
   "source": [
    "A database is an organized collection of data, so that it can be easily accessed and managed.<br>\n",
    "<b>SQL</b> stands for Structured Query Language where Data is stored in a structured way something like a tabular formate while in <b>NOSQL</b> stands for Not Only SQl, there is not any proper Structure to store a data."
   ]
  },
  {
   "cell_type": "markdown",
   "id": "9adaa4ac-d4a3-4b1c-b2b1-4b61f06b7c42",
   "metadata": {},
   "source": [
    "### <b>Question No. 2"
   ]
  },
  {
   "cell_type": "markdown",
   "id": "ce19737f-8d00-414b-84cc-f8a66c51ff24",
   "metadata": {},
   "source": [
    "<b>Data Definition Language (DDL)</b> is a subset of SQL and a part of Database Management System (DBMS). It is a language for describing data and its relationships in a database."
   ]
  },
  {
   "cell_type": "markdown",
   "id": "64c5cf8b-55ab-4eea-97b3-87d46b83114a",
   "metadata": {},
   "source": [
    "### <b>Question No. 3"
   ]
  },
  {
   "cell_type": "markdown",
   "id": "8453dfb9-e4e1-48b5-abad-f8710cabf982",
   "metadata": {},
   "source": [
    "<b>Data Manipulation Language (DML)</b> is a class of SQL statements that are used to query, edit, add and delete row-level data from database tables or views.<br>\n",
    "<i><ul>\n",
    "<li>INSERT: Adds new data to a table. Example: INSERT INTO Student_name VALUES ('ABC', 'PQR', 'XYL');</li>\n",
    "<li>UPDATE: Changes existing data in a table. Example: INSERT: Adds new data to a table</li>\n",
    "<li>DELETE: Removes records from a table. Example: DELETE FROM customers WHERE first_name = 'Abhi' AND last_name = 'Singh'</li></i>"
   ]
  },
  {
   "cell_type": "markdown",
   "id": "b83cf481-c324-4334-aa90-46319d1f9741",
   "metadata": {},
   "source": [
    "### <b>Question No. 4"
   ]
  },
  {
   "cell_type": "markdown",
   "id": "081c3907-51a9-482c-9bbc-28f8b35a59e6",
   "metadata": {},
   "source": [
    "<b>DQL</b> stands for Data Query Language. It is a sublanguage of SQL that allows you to get and organize data from a database<br>\n",
    "<b>SELECT</b> command is used to extract data from a database in order to perform actions on it<br>\n",
    "<i>Example:<ul>\n",
    "    <li>SELECT * FROM Student_details  - Extract all data from Student_details<br>\n",
    "    <li>SELECT Name FROM Student_details - Extract Name from Student_details.</i>"
   ]
  },
  {
   "cell_type": "markdown",
   "id": "b96bd76a-053b-4174-ac3a-bf4284c62504",
   "metadata": {},
   "source": [
    "### <b>Question No. 5"
   ]
  },
  {
   "cell_type": "markdown",
   "id": "9515a75b-32d8-4589-ae22-f8881c2ab319",
   "metadata": {},
   "source": [
    "A <b>primary</b> key is a column that uniquely identifies each row in a table.<br> A <b>foreign key</b> is a column that references the primary key of another table. Foreign keys are used to establish relationships between tables"
   ]
  },
  {
   "cell_type": "markdown",
   "id": "70119a9c-c810-4d0f-8329-44c9b2ec7b86",
   "metadata": {},
   "source": [
    "### <b>Question No. 6"
   ]
  },
  {
   "cell_type": "raw",
   "id": "48953c11-8065-4745-a9cc-c37f5c0b1a72",
   "metadata": {},
   "source": [
    "import mysql.connector\n",
    "\n",
    "# Create a connection object\n",
    "connection = mysql.connector.connect(\n",
    "    host=\"localhost\",\n",
    "    user=\"root\",\n",
    "    password=\"password\",\n",
    "    database=\"mydatabase\"\n",
    ")\n",
    "\n",
    "# Create a cursor object\n",
    "cursor = connection.cursor()\n",
    "\n",
    "# Execute a SQL query\n",
    "cursor.execute(\"SELECT * FROM customers\")\n",
    "\n",
    "# Fetch all the results\n",
    "results = cursor.fetchall()\n",
    "\n",
    "# Print the results\n",
    "for row in results:\n",
    "    print(row)\n",
    "\n",
    "# Close the cursor and connection objects\n",
    "cursor.close()\n",
    "connection.close()"
   ]
  },
  {
   "cell_type": "markdown",
   "id": "91e9cd81-e755-4ecf-b053-7c597aeae618",
   "metadata": {},
   "source": [
    "The <b>cursor()</b> method creates a cursor object. A cursor object is used to execute SQL queries and fetch the results.<br>\n",
    "The <b>execute()</b> method executes a SQL query. The query can be a SELECT, INSERT, UPDATE, or DELETE statement."
   ]
  },
  {
   "cell_type": "markdown",
   "id": "210995df-a890-46c9-a20c-e168a188c75a",
   "metadata": {},
   "source": [
    "### <b>Question No. 7"
   ]
  },
  {
   "cell_type": "markdown",
   "id": "db14254d-2187-400c-806c-4e403ac33ed0",
   "metadata": {},
   "source": [
    "The order of execution of SQL clauses is as follows:\n",
    "<ol> \n",
    "<li>FROM clause.</li>\n",
    "<li>WHERE clause.</li>\n",
    "<li>GROUP BY clause.</li>\n",
    "<li>HAVING clause.</li>\n",
    "<li>SELECT clause.</li>\n",
    "<li>ORDER BY clause.</li>\n",
    "<li>LIMIT clause.</li>"
   ]
  }
 ],
 "metadata": {
  "kernelspec": {
   "display_name": "Python 3 (ipykernel)",
   "language": "python",
   "name": "python3"
  },
  "language_info": {
   "codemirror_mode": {
    "name": "ipython",
    "version": 3
   },
   "file_extension": ".py",
   "mimetype": "text/x-python",
   "name": "python",
   "nbconvert_exporter": "python",
   "pygments_lexer": "ipython3",
   "version": "3.10.12"
  }
 },
 "nbformat": 4,
 "nbformat_minor": 5
}
